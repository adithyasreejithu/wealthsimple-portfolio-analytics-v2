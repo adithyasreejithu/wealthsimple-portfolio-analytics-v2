{
 "cells": [
  {
   "cell_type": "code",
   "id": "initial_id",
   "metadata": {
    "collapsed": true,
    "ExecuteTime": {
     "end_time": "2025-10-08T03:21:50.976443Z",
     "start_time": "2025-10-08T03:21:50.275188Z"
    }
   },
   "source": [
    "from pathlib import Path\n",
    "\n",
    "import fitz\n",
    "import os, io, re\n",
    "import pytesseract\n",
    "from PIL import Image\n",
    "from dotenv import load_dotenv\n",
    "from pygments.lexers.srcinfo import keywords\n",
    "\n",
    "load_dotenv()\n",
    "WS = os.environ.get(\"DATA_FILES\")\n",
    "\n",
    "file = Path(WS)/\"April_2025.pdf\"\n",
    "doc = fitz.open(file)"
   ],
   "outputs": [],
   "execution_count": 1
  },
  {
   "cell_type": "code",
   "id": "6fd975748cc7ba59",
   "metadata": {
    "ExecuteTime": {
     "end_time": "2025-10-08T03:21:50.993468Z",
     "start_time": "2025-10-08T03:21:50.976920Z"
    }
   },
   "source": [
    "file_page_count = doc.page_count\n",
    "num = 0\n",
    "page_contents  = \" \""
   ],
   "outputs": [],
   "execution_count": 2
  },
  {
   "cell_type": "code",
   "id": "dc80a39a505feb5",
   "metadata": {
    "ExecuteTime": {
     "end_time": "2025-10-08T03:22:04.023167Z",
     "start_time": "2025-10-08T03:21:50.999621Z"
    }
   },
   "source": [
    "while num < file_page_count:\n",
    "    page = doc.load_page(num)\n",
    "    pix = page.get_pixmap(dpi=300)\n",
    "    img = Image.open(io.BytesIO(pix.tobytes(\"png\")))\n",
    "\n",
    "    text = pytesseract.image_to_string(img, config=\"--psm 6\")\n",
    "    page_contents += text\n",
    "    num += 1\n"
   ],
   "outputs": [],
   "execution_count": 3
  },
  {
   "cell_type": "markdown",
   "id": "b64352355847da15",
   "metadata": {},
   "source": [
    "Dont change anything above this"
   ]
  },
  {
   "cell_type": "code",
   "id": "589ea2a25929b85a",
   "metadata": {
    "ExecuteTime": {
     "end_time": "2025-10-08T03:22:04.618656Z",
     "start_time": "2025-10-08T03:22:04.611675Z"
    }
   },
   "source": [
    "headings = [\"Portfolio Cash\", \"Portfolio Equities\", \"Activity - Current period\",\"Transactions for Future Settlement\"]\n",
    "\n",
    "# keywords = [\"Canadian Equities\",\"US Equities\",\"Total Portfolio\",\"Portfolio Equities\"]\n",
    "\n",
    "content_dict = dict.fromkeys(headings, None)"
   ],
   "outputs": [],
   "execution_count": 4
  },
  {
   "cell_type": "code",
   "id": "a2c2adb1",
   "metadata": {
    "ExecuteTime": {
     "end_time": "2025-10-08T03:22:04.635450Z",
     "start_time": "2025-10-08T03:22:04.627498Z"
    }
   },
   "source": [
    "pattern = r\"({})\".format(\"|\".join(map(re.escape,headings)))\n",
    "matches = list(re.finditer(pattern, page_contents))"
   ],
   "outputs": [],
   "execution_count": 5
  },
  {
   "cell_type": "code",
   "id": "a7eda483",
   "metadata": {
    "ExecuteTime": {
     "end_time": "2025-10-08T03:22:04.650771Z",
     "start_time": "2025-10-08T03:22:04.643548Z"
    }
   },
   "source": [
    "current = None\n",
    "prev = None\n",
    "mydict = dict.fromkeys(headings)\n",
    "mykeys = mydict.keys()\n",
    "\n",
    "for value, match in enumerate(matches): \n",
    "    current = match.group()\n",
    "    start  = match.start()\n",
    "    end = matches[value+1].start() if value + 1 < len(matches) else len(page_contents)\n",
    "    content = page_contents[start:end] \n",
    "    mydict[current]= content\n",
    "    # print(match[value])\n"
   ],
   "outputs": [],
   "execution_count": 6
  },
  {
   "cell_type": "code",
   "id": "9a164355",
   "metadata": {
    "ExecuteTime": {
     "end_time": "2025-10-08T03:22:04.669245Z",
     "start_time": "2025-10-08T03:22:04.660423Z"
    }
   },
   "source": [
    "print(mykeys)"
   ],
   "outputs": [
    {
     "name": "stdout",
     "output_type": "stream",
     "text": [
      "dict_keys(['Portfolio Cash', 'Portfolio Equities', 'Activity - Current period', 'Transactions for Future Settlement'])\n"
     ]
    }
   ],
   "execution_count": 7
  },
  {
   "cell_type": "code",
   "id": "9013b04d",
   "metadata": {
    "ExecuteTime": {
     "end_time": "2025-10-08T03:22:04.784141Z",
     "start_time": "2025-10-08T03:22:04.776452Z"
    }
   },
   "source": [
    "hello = mydict[\"Activity - Current period\"]\n",
    "print(hello)"
   ],
   "outputs": [
    {
     "name": "stdout",
     "output_type": "stream",
     "text": [
      "Activity - Current period\n",
      "Date Transaction Description Debit ($) Credit ($) Balance ($)\n",
      "2025-04-02 BUY SPLG - SPDR Portfolio S&P 500 ETF: Bought 0.0029 shares (executed at $0.28 $0.00 $17.52\n",
      "2025-04-01), FX Rate: 1.4664\n",
      "2025-04-02 BUY SCHD - Schwab US Dividend Equity ETF: Bought 0.0226 shares (executed at $0.92 $0.00 $16.60\n",
      "2025-04-01), FX Rate: 1.4655\n",
      "2025-04-02 BUY CDZ - iShares S&P/TSX Canadian Dividend ETF: Bought 0.0030 shares $0.11 $0.00 $16.49\n",
      "(executed at 2025-04-01)\n",
      "2025-04-02 BUY XEQT - iShares Core Equity ETF Portfolio: Bought 0.0184 shares (executed at $0.62 $0.00 $15.87\n",
      "2025-04-01)\n",
      "2025-04-02 DIV NVDA - NVIDIA Corp.: Cash dividend distribution, received on 2025-04-02, $0.00 $0.01 $15.88\n",
      "record date of 2025-03-12, FX Rate: 1.4360\n",
      "2025-04-02 DIV ZEQT - BMO All-Equity ETF: Cash dividend distribution, received on $0.00 $0.22 $16.10\n",
      "2025-04-02, record date of 2025-03-28\n",
      "2025-04-02 DIV ZEB - BMO Equal Weight Banks Index ETF: Cash dividend distribution, $0.00 $0.28 $16.38\n",
      "received on 2025-04-02, record date of 2025-03-28\n",
      "2025-04-03 BUY L - Loblaw Cos. Ltd.: Bought 0.0058 shares (executed at 2025-04-02) $1.18 $0.00 $15.20\n",
      "2025-04-03 DIV VFV - Vanguard S&P 500 Index ETF: Cash dividend distribution, received on $0.00 $1.25 $16.45\n",
      "2025-04-03, record date of 2025-03-27\n",
      "2025-04-03 LOAN T - AT&T, Inc.: 4.0000 Shares on loan (executed at 2025-04-03) $0.00 $0.00 $16.45\n",
      "2025-04-04 BUY ZEB - BMO Equal Weight Banks Index ETF: Bought 0.0069 shares (executed $0.28 $0.00 $16.17\n",
      "at 2025-04-03)\n",
      "2025-04-04 BUY ZEQT - BMO All-Equity ETF: Bought 0.0044 shares (executed at 2025-04-03) $0.22 $0.00 $15.95\n",
      "2025-04-04 RECALL T - AT&T, Inc.: Loan of 4.0000 shares terminated (executed at 2025-04-04) $0.00 $0.00 $15.95\n",
      "2025-04-07 BUY VFV - Vanguard S&P 500 Index ETF: Bought 0.0095 shares (executed at $1.24 $0.00 $14.71\n",
      "2025-04-04)\n",
      "2025-04-08 SELL L- Loblaw Cos. Ltd.: Sold 1.0000 shares (executed at 2025-04-07) $0.00 $199.09 $213.80\n",
      "2025-04-08 BUY VDY - Vanguard FTSE Canadian High Dividend Yield Index ETF: Bought $45.30 $0.00 $168.50\n",
      "1.0000 shares (executed at 2025-04-07)\n",
      "2025-04-08 BUY ENB - Enbridge Inc: Bought 1.0000 shares (executed at 2025-04-07) $59.04 $0.00 $109.46\n",
      "2025-04-08 BUY XEQT - iShares Core Equity ETF Portfolio: Bought 1.4890 shares (executed at $44.88 $0.00 $64.58\n",
      "2025-04-07)\n",
      "2025-04-08 BUY WN - George Weston Ltd.: Bought 0.2701 shares (executed at 2025-04-07) $64.56 $0.00 $0.02\n",
      "2025-04-08 DIV VDY - Vanguard FTSE Canadian High Dividend Yield Index ETF: Cash $0.00 $0.20 $0.22\n",
      "dividend distribution, received on 2025-04-08, record date of 2025-04-01\n",
      "2025-04-09 BUY VDY - Vanguard FTSE Canadian High Dividend Yield Index ETF: Bought $0.20 $0.00 $0.02\n",
      "0.0044 shares (executed at 2025-04-08)\n",
      "2025-04-09 CONT Contribution (executed at 2025-04-09) $0.00 $300.00 $300.02\n",
      "2025-04-10 BUY SCHD - Schwab US Dividend Equity ETF: Bought 2.0000 shares (executed at $74.60 $0.00 $225.42\n",
      "2025-04-09), FX Rate: 1.4361\n",
      "2025-04-11 BUY ENB - Enbridge Inc: Bought 1.0000 shares (executed at 2025-04-10) $58.62 $0.00 $166.80\n",
      "2025-04-11 BUY XEQT - iShares Core Equity ETF Portfolio: Bought 3.0000 shares (executed at $94.80 $0.00 $72.00\n",
      "2025-04-10)\n",
      "2025-04-11 BUY WN - George Weston Ltd.: Bought 0.2777 shares (executed at 2025-04-10) $65.84 $0.00 $6.16\n",
      "2025-04-14 FPLINT Stock lending monthly interest payment $0.00 $0.01 $6.17\n",
      "2025-04-15 DIV PZA - Pizza Pizza Royalty Corp: Cash dividend distribution, received on $0.00 $0.01 $6.18\n",
      "2025-04-15, record date of 2025-03-31\n",
      "2025-04-15 DIV PZA - Pizza Pizza Royalty Corp: Cash dividend distribution, received on $0.00 $0.31 $6.49\n",
      "2025-04-15, record date of 2025-03-31\n",
      "2025-04-16 BUY PZA - Pizza Pizza Royalty Corp: Bought 0.0225 shares (executed at $0.31 $0.00 $6.18\n",
      "2025-04-15)\n",
      "2025-04-16 BUY PZA - Pizza Pizza Royalty Corp: Bought 0.0007 shares (executed at $0.01 $0.00 $6.17\n",
      "2025-04-15)\n",
      "2025-04-24 LOAN T - AT&T, Inc.: 4.0000 Shares on loan (executed at 2025-04-24) $0.00 $0.00 $6.17\n",
      "2025-04-25 RECALL T - AT&T, Inc.: Loan of 4.0000 shares terminated (executed at 2025-04-25) $0.00 $0.00 $6.17\n",
      "2025-04-29 CONT Contribution (executed at 2025-04-29) $0.00 $700.00 $706.17\n",
      "2025-04-29 LOAN T - AT&T, Inc.: 4.0000 Shares on loan (executed at 2025-04-29) $0.00 $0.00 $706.17\n",
      "2025-04-30 BUY BN - Brookfield Corp.: Bought 2.0000 shares (executed at 2025-04-29) $148.64 $0.00 $557.53\n",
      "2025-04-30 DIV CDZ - iShares S&P/TSX Canadian Dividend ETF: Cash dividend distribution, $0.00 $0.13 $557.66\n",
      "received on 2025-04-30, record date of 2025-04-25\n",
      "\n"
     ]
    }
   ],
   "execution_count": 8
  }
 ],
 "metadata": {
  "kernelspec": {
   "display_name": ".wsvenv",
   "language": "python",
   "name": "python3"
  },
  "language_info": {
   "codemirror_mode": {
    "name": "ipython",
    "version": 3
   },
   "file_extension": ".py",
   "mimetype": "text/x-python",
   "name": "python",
   "nbconvert_exporter": "python",
   "pygments_lexer": "ipython3",
   "version": "3.12.8"
  }
 },
 "nbformat": 4,
 "nbformat_minor": 5
}
