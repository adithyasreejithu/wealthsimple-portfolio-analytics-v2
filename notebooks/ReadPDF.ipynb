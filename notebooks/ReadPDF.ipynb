{
 "cells": [
  {
   "cell_type": "code",
   "id": "initial_id",
   "metadata": {
    "collapsed": true,
    "ExecuteTime": {
     "end_time": "2025-10-18T07:11:29.330186Z",
     "start_time": "2025-10-18T07:11:29.321723Z"
    }
   },
   "source": [
    "from pathlib import Path\n",
    "\n",
    "import fitz\n",
    "import os, io, re\n",
    "import pytesseract\n",
    "from PIL import Image\n",
    "from dotenv import load_dotenv\n",
    "# from pygments.lexers.srcinfo import keywords\n",
    "\n",
    "load_dotenv()\n",
    "WS = os.environ.get(\"DATA_FILES\")\n",
    "\n",
    "file = Path(WS)/\"MARCH_2025.pdf\"\n",
    "doc = fitz.open(file)"
   ],
   "outputs": [],
   "execution_count": 7
  },
  {
   "cell_type": "code",
   "id": "6fd975748cc7ba59",
   "metadata": {
    "ExecuteTime": {
     "end_time": "2025-10-18T07:11:29.354370Z",
     "start_time": "2025-10-18T07:11:29.344407Z"
    }
   },
   "source": [
    "file_page_count = doc.page_count\n",
    "num = 0\n",
    "page_contents  = \" \""
   ],
   "outputs": [],
   "execution_count": 8
  },
  {
   "cell_type": "code",
   "id": "dc80a39a505feb5",
   "metadata": {
    "ExecuteTime": {
     "end_time": "2025-10-18T07:11:39.704351Z",
     "start_time": "2025-10-18T07:11:29.359656Z"
    }
   },
   "source": [
    "while num < file_page_count:\n",
    "    page = doc.load_page(num)\n",
    "    pix = page.get_pixmap(dpi=300)\n",
    "    img = Image.open(io.BytesIO(pix.tobytes(\"png\")))\n",
    "\n",
    "    text = pytesseract.image_to_string(img, config=\"--psm 6\")\n",
    "    page_contents += text\n",
    "    num += 1\n"
   ],
   "outputs": [],
   "execution_count": 9
  },
  {
   "cell_type": "markdown",
   "id": "b64352355847da15",
   "metadata": {},
   "source": [
    "Dont change anything above this"
   ]
  },
  {
   "cell_type": "code",
   "id": "589ea2a25929b85a",
   "metadata": {
    "ExecuteTime": {
     "end_time": "2025-10-18T07:11:39.711777Z",
     "start_time": "2025-10-18T07:11:39.708922Z"
    }
   },
   "source": [
    "headings = [\"Portfolio Cash\", \"Portfolio Equities\", \"Activity - Current period\",\"Transactions for Future Settlement\"]\n",
    "\n",
    "# keywords = [\"Canadian Equities\",\"US Equities\",\"Total Portfolio\",\"Portfolio Equities\"]\n",
    "\n",
    "content_dict = dict.fromkeys(headings, None)"
   ],
   "outputs": [],
   "execution_count": 10
  },
  {
   "cell_type": "code",
   "id": "a2c2adb1",
   "metadata": {
    "ExecuteTime": {
     "end_time": "2025-10-18T07:11:39.725824Z",
     "start_time": "2025-10-18T07:11:39.719142Z"
    }
   },
   "source": [
    "pattern = r\"({})\".format(\"|\".join(map(re.escape,headings)))\n",
    "matches = list(re.finditer(pattern, page_contents))"
   ],
   "outputs": [],
   "execution_count": 11
  },
  {
   "cell_type": "code",
   "id": "a7eda483",
   "metadata": {
    "ExecuteTime": {
     "end_time": "2025-10-18T07:11:39.750887Z",
     "start_time": "2025-10-18T07:11:39.730767Z"
    }
   },
   "source": [
    "current = None\n",
    "prev = None\n",
    "mydict = dict.fromkeys(headings)\n",
    "mykeys = mydict.keys()\n",
    "\n",
    "for value, match in enumerate(matches): \n",
    "    current = match.group()\n",
    "    start  = match.start()\n",
    "    end = matches[value+1].start() if value + 1 < len(matches) else len(page_contents)\n",
    "    content = page_contents[start:end] \n",
    "    mydict[current].append(content)\n",
    "    # print(match[value])\n"
   ],
   "outputs": [
    {
     "ename": "AttributeError",
     "evalue": "'NoneType' object has no attribute 'append'",
     "output_type": "error",
     "traceback": [
      "\u001B[31m---------------------------------------------------------------------------\u001B[39m",
      "\u001B[31mAttributeError\u001B[39m                            Traceback (most recent call last)",
      "\u001B[36mCell\u001B[39m\u001B[36m \u001B[39m\u001B[32mIn[12]\u001B[39m\u001B[32m, line 11\u001B[39m\n\u001B[32m      9\u001B[39m end = matches[value+\u001B[32m1\u001B[39m].start() \u001B[38;5;28;01mif\u001B[39;00m value + \u001B[32m1\u001B[39m < \u001B[38;5;28mlen\u001B[39m(matches) \u001B[38;5;28;01melse\u001B[39;00m \u001B[38;5;28mlen\u001B[39m(page_contents)\n\u001B[32m     10\u001B[39m content = page_contents[start:end] \n\u001B[32m---> \u001B[39m\u001B[32m11\u001B[39m \u001B[43mmydict\u001B[49m\u001B[43m[\u001B[49m\u001B[43mcurrent\u001B[49m\u001B[43m]\u001B[49m\u001B[43m.\u001B[49m\u001B[43mappend\u001B[49m(content)\n\u001B[32m     12\u001B[39m \u001B[38;5;66;03m# print(match[value])\u001B[39;00m\n",
      "\u001B[31mAttributeError\u001B[39m: 'NoneType' object has no attribute 'append'"
     ]
    }
   ],
   "execution_count": 12
  },
  {
   "cell_type": "code",
   "execution_count": 29,
   "id": "9a164355",
   "metadata": {
    "ExecuteTime": {
     "end_time": "2025-10-18T07:11:39.762216500Z",
     "start_time": "2025-10-08T03:22:04.660423Z"
    }
   },
   "outputs": [
    {
     "name": "stdout",
     "output_type": "stream",
     "text": [
      "dict_keys(['Portfolio Cash', 'Portfolio Equities', 'Activity - Current period', 'Transactions for Future Settlement'])\n"
     ]
    }
   ],
   "source": [
    "print(mykeys)"
   ]
  },
  {
   "cell_type": "code",
   "execution_count": 37,
   "id": "9013b04d",
   "metadata": {
    "ExecuteTime": {
     "end_time": "2025-10-18T07:11:39.762216500Z",
     "start_time": "2025-10-08T03:22:04.776452Z"
    }
   },
   "outputs": [
    {
     "name": "stdout",
     "output_type": "stream",
     "text": [
      "Activity - Current period\n",
      "Date Transaction Description Debit ($) Credit ($) Balance ($)\n",
      "VDY - Vanguard FTSE Canadian High Dividend Yield Index ETF: Cash\n",
      "dividend distribution, received on 2025-03-10, record date of 2025-03-03\n",
      "2025-03-12 BUY VDY - Vanguard FTSE Canadian High Dividend Yield Index ETF: Bought $0.22 $0.00 $16.43\n",
      "0.0045 shares (executed at 2025-03-11)\n",
      "2025-03-14 CONT Contribution (executed at 2025-03-14) $0.00 $250.00 $266.43\n",
      "2025-03-14 FPLINT Stock lending monthly interest payment $0.00 $0.01 $266.44\n",
      "2025-03-14 DIV PZA - Pizza Pizza Royalty Corp: Cash dividend distribution, received on $0.00 $0.01 $266.45\n",
      "2025-03-14, record date of 2025-02-28\n",
      "2025-03-14 DIV PZA - Pizza Pizza Royalty Corp: Cash dividend distribution, received on $0.00 $0.31 $266.76\n",
      "2025-03-14, record date of 2025-02-28\n",
      "2025-03-17 BUY XEQT - iShares Core Equity ETF Portfolio: Bought 2.0000 shares (executed at $67.60 $0.00 $199.16\n",
      "2025-03-14)\n",
      "2025-03-17 BUY ZGLD - BMO Gold Bullion ETF - CAD: Bought 4.0000 shares (executed at $184.92 $0.00 $14.24\n",
      "2025-03-14)\n",
      "2025-03-17 NRT Non-resident tax (executed at 2025-03-17) $0.07 $0.00 $14.60\n",
      "2025-03-17 DIV MCD - McDonald's Corp: Cash dividend distribution, received on 2025-03-17, $0.00 $0.43 $14.60\n",
      "record date of 2025-03-03, FX Rate: 1.4341\n",
      "2025-03-18 LOAN ZGLD - BMO Gold Bullion ETF - CAD: 4.0000 Shares on loan (executed at $0.00 $0.00 $14.60\n",
      "2025-03-18)\n",
      "2025-03-19 DIV NOC - Northrop Grumman Corporation: Cash dividend distribution, received $0.00 $0.17 $14.74\n",
      "on 2025-03-19, record date of 2025-03-03, FX Rate: 1.4378\n",
      "2025-03-19 NRT Non-resident tax (executed at 2025-03-19) $0.03 $0.00 $14.74\n",
      "2025-03-20 BUY NOC - Northrop Grumman Corporation: Bought 0.0001 shares (executed at $0.07 $0.00 $14.67\n",
      "2025-03-19), FX Rate: 1.4599\n",
      "2025-03-20 DIV RTX - RTX Corporation: Cash dividend distribution, received on 2025-03-20, $0.00 $0.40 $15.01\n",
      "record date of 2025-02-21, FX Rate: 1.4392\n",
      "2025-03-20 NRT Non-resident tax (executed at 2025-03-20) $0.06 $0.00 $15.01\n",
      "2025-03-21 BUY RTX - RTX Corporation: Bought 0.0017 shares (executed at 2025-03-20), FX $0.33 $0.00 $14.68\n",
      "Rate: 1.4599\n",
      "2025-03-31 NRT Non-resident tax (executed at 2025-03-31) $0.04 $0.00 $14.96\n",
      "2025-03-31 DIV SPLG - SPDR Portfolio S&P 500 ETF: Cash dividend distribution, received on $0.00 $0.32 $14.96\n",
      "2025-03-31, record date of 2025-03-28, FX Rate: 1.4434\n",
      "2025-03-31 NRT Non-resident tax (executed at 2025-03-31) $0.16 $0.00 $15.88\n",
      "2025-03-31 DIV SCHD - Schwab US Dividend Equity ETF: Cash dividend distribution, received $0.00 $1.08 $15.88\n",
      "on 2025-03-31, record date of 2025-03-26, FX Rate: 1.4441\n",
      "2025-03-31 RECALL ZGLD - BMO Gold Bullion ETF - CAD: Loan of 4.0000 shares terminated $0.00 $0.00 $15.88\n",
      "(executed at 2025-03-31)\n",
      "2025-03-31 DIV CDZ - iShares S&P/TSX Canadian Dividend ETF: Cash dividend distribution, $0.00 $0.11 $15.99\n",
      "received on 2025-03-31, record date of 2025-03-26\n",
      "2025-03-31 DIV XEQT - iShares Core Equity ETF Portfolio: Cash dividend distribution, received $0.00 $0.62 $16.61\n",
      "on 2025-03-31, record date of 2025-03-26\n",
      "C 1 P F 4 Regulated by Canadian Investment Regulatory Organization\n",
      "Canadian Investor Protection Fund Uv Réglementée par Organisme canadien de réglementation des investissements\n",
      "MEMBER\n",
      "4/6\n",
      "LEVERAGE DISCLOSURE\n",
      "Using borrowed money to finance the purchase of securities and/or crypto assets involves greater risk than using\n",
      "cash resources only. If you borrow money to purchase securities and/or crypto assets, your responsibility to repay\n",
      "the loan and pay interest as required by its terms remains the same even if the value of the securities and/or\n",
      "crypto assets purchased declines.\n",
      "STATEMENT NOTES\n",
      "Self-directed client accounts holding securities and options, as well accounts managed by Wealthsimple Inc. but\n",
      "held at Wealthsimple Investments Inc. are protected by CIPF within specified limits in the event Wealthsimple\n",
      "Investments Inc. becomes insolvent. A brochure describing the nature and limits of coverage is available upon\n",
      "request. www.cipf.ca.\n",
      "Free credit balances in non-registered accounts represent funds payable on demand which, although properly\n",
      "recorded in our books, are not segregated and may be used in the conduct of our business. Cash balances in\n",
      "registered accounts are held in trust by Canadian Western Trust. Occasional failed deliveries from executing\n",
      "brokers can cause shares to be desegregated based on approved segregation logic.\n",
      "A statement of financial condition and a current list of directors and officers for Wealthsimple Investments Inc. will\n",
      "be furnished upon request. Clients in British Columbia are entitled to certain additional information about\n",
      "Wealthsimple Investments Inc., including information about commissions and fees that we charge, and about any\n",
      "administrative proceedings that may relate to the firm or its staff.\n",
      "All sales of securities are disclosed to the Canada Revenue Agency on a yearly basis. These transactions must be\n",
      "reported on your annual income tax return. Keep this statement for income tax purposes, as no other will be\n",
      "provided in respect to these transactions. Employees of Wealthsimple Investments Inc. are not authorized to\n",
      "provide tax or legal advice. Please consult your accountant or lawyer on such matters. The information provided in\n",
      "this statement is compiled from our records and other sources believed to be reliable. However, we give no\n",
      "warranty as to the accuracy or completeness of the data nor is such warranty implied. Use of any of the\n",
      "information contained on this statement is entirely at the discretion of the recipient and no liability may be attached\n",
      "to the broker/dealer indicated on the face of this statement or such usage.\n",
      "Fully paid securities lent under Wealthsimple Investments Inc. (WSIlI) fully paid lending program are not eligible for\n",
      "Canadian Investor Protection Fund (CIPF) coverage. Fully paid securities not lent under WSII fully paid lending\n",
      "program and held at WSII, as at the date of insolvency of WSII, are eligible for CIPF coverage.\n",
      "CIPF does not cover the client’s fully-paid securities that are on loan under the FPL program. There is a risk that,\n",
      "in the event of a Dealer insolvency, if there is a shortfall in the assets available in the customer pool, the client\n",
      "may not receive back the securities on loan. All fully-paid securities of clients in the FPL program that are not on\n",
      "loan, however, remain eligible for CIPF coverage.\n",
      "Some stock loans involve the lender paying (and the borrower receiving) a fee. A lender would be interested in\n",
      "these types of loans when interest rates are higher and the interest earned on the cash collateral exceeds the cost\n",
      "of the fee paid to the borrower. Wealthsimple will lend your shares in this way when there are no loans available\n",
      "where the borrower will pay us a fee, and the interest earned on the cash collateral exceeds the cost paid to\n",
      "borrowers to lend your shares. When this happens, your shares are loaned out and you receive a portion of the\n",
      "interest income. You are not charged for any fee paid to the borrower. These loans are reflected on your stock\n",
      "loan confirmations with a loan rate of 0%.\n",
      "For regulatory purposes, Self Regulatory Organizations including Market Regulation Services Inc., the Canadian\n",
      "Investment Regulatory Organization, the Mutual Fund Dealers Association of Canada, Bourse de Montreal Inc.,\n",
      "and, the Canadian Investor Protection Fund (collectively “SROs”) require access to personal information of current\n",
      "and former clients, employees, agents, directors, officers, partners and others that has been collected or used by\n",
      "Regulated Persons. SROs collect, use or disclose such personal information obtained from Regulated Persons for\n",
      "regulatory purposes, including:\n",
      "Surveillance of trading-related activity, sales, financial compliance, trade desk review and\n",
      "other regulatory audits, investigation of potential regulatory and statutory violations, regulatory\n",
      "databases, enforcement or disciplinary proceedings, reporting to securities regulators, and,\n",
      "information-sharing with securities regulatory authorities, regulated marketplaces, other self-\n",
      "regulatory organizations and law enforcement agencies in any jurisdiction in connection with\n",
      "any of the foregoing.\n",
      "C T P F G Regulated by Canadian Investment Regulatory Organization ; ;\n",
      "Canadian Investor Protection Fund églementée par Organisme canadien de réglementation des investissements\n",
      "MEMBER\n",
      "5/6\n",
      "Any transaction listed in this statement shall be deemed and treated as authorized and correct, approved and\n",
      "confirmed by you unless we receive written notice to Wealthsimple Investments Inc. Compliance Department, 201\n",
      "- 80 Spadina Avenue, Toronto, Ontario, M5V 2J4 within 45 days of the date of the statement.\n",
      "Wealthsimple Investments Inc. (formerly Canadian ShareOwner Investments Inc.) is a wholly owned subsidiary of\n",
      "Wealthsimple Financial Corp. Wealthsimple Trade is a division of and is licensed for use by Wealthsimple\n",
      "Investments Inc.\n",
      "Wealthsimple ETFs, Power Corporation of Canada (POW), Great West Life (GWL) and IGM Financial Inc. (IGM)\n",
      "are related/connected issuers of Wealthsimple Investments Inc.\n",
      "SDI refers to \"self-directed investing”. This account is a self-directed, order execution only account.\n",
      "ENDNOTES\n",
      "1. The market value for this security cannot be determined as there is no active market.\n",
      "2. The market value for this security has been estimated as there is no active market.\n",
      "3. Some or all of the book cost of this security has been determined using a fair market value\n",
      "calculation.\n",
      "C 1 P F G Regulated by Canadian Investment Regulatory Organization ; ,\n",
      "Canadian Investor Protection Fund Réglementée par Organisme canadien de réglementation des investissements\n",
      "MEMBER\n",
      "6/6\n",
      "\n",
      "Information about Statement Codes\n",
      "AFFILIATE - Affiliate bonus GRTRP - Grant repayment STAKE - Crypto stake initiated\n",
      "BUY - Purchase of assets GST - Goods and services tax UNSTAKE - Crypto unstake initiated\n",
      "BUYTOOPEN - Purchase of option HBP - Redemption for home buyers' STKDIS - Stock distribution\n",
      "contracts plan STKDIV - Stock dividends received\n",
      "CLB - Canada Learning Bond grant _ INT - Interest received STKREORG - Stock re-organization\n",
      "CONT - Contribution JRL - Journal TAX - Tax withheld\n",
      "CORRECTION - Applied correction | LLP - Redemption for lifelong TREIN - Transfer into the account\n",
      "CREDIT - Credit issued learner plan TREINTE - Tax-free transfer into the\n",
      "CRYPTORWD - Crypto staking LOAN - Stocks on loan account\n",
      "reward NCDIS - Non-cash distribution TRFOUT - Transfer out of the\n",
      "DCTFEE - Debit card transaction NRT - Non resident tax withheld account\n",
      "fee NSF - Reversal of deposit due to TRFOUTTF - Tax-free transfer out\n",
      "DEP - Non-contribution deposit non-sufficient funds of the account\n",
      "DIV - Dividends received OBP - Online bill payment WD - Non-contribution withdrawal\n",
      "DSCFEE - Deferred sales charge PST - Provincial sales tax WDQ - FHSA Qualifying withdrawal\n",
      "EXERCISE - Option exercise QST - Quebec sales tax WHTEED - Federal withholding tax\n",
      "EXPIRY - Option expiry RECALL - Termination of stock on WHTPROQC - Quebec withholding\n",
      "FCPT - Foreign content penalty tax loan tax\n",
      "FEE - Fee REFER - Referral bonus WIREIN - Wire transfer into the\n",
      "FXCONVERSION - Foreign ROC - Return of capital account\n",
      "exchange conversion SELL - Sell of assets in an account WIREINTF - Tax-free wire transfer\n",
      "GIFTCARD - Giftcard redeemed SELLTOCLOSE - Sell of option into the account\n",
      "GRANT - Grant payment contracts YTD - Year to Date\n",
      "\n",
      "C 1 P F 4 Regulated by Canadian Investment Regulatory Organization\n",
      "\n",
      "Canadian Investor Protection Fund Uv Réglementée par Organisme canadien de réglementation des investissements\n",
      "\n",
      "MEMBER\n",
      "\n"
     ]
    }
   ],
   "source": [
    "act = mydict[\"Activity - Current period\"]\n",
    "print(act)"
   ]
  },
  {
   "cell_type": "code",
   "execution_count": 31,
   "id": "11e3464c",
   "metadata": {},
   "outputs": [
    {
     "name": "stdout",
     "output_type": "stream",
     "text": [
      "Hello There\n",
      "Hello There\n",
      "Hello There\n",
      "Hello There\n",
      "Hello There\n",
      "Hello There\n",
      "Hello There\n",
      "Hello There\n",
      "Hello There\n",
      "Hello There\n",
      "Hello There\n",
      "Hello There\n",
      "Hello There\n",
      "Hello There\n",
      "Hello There\n",
      "Hello There\n",
      "Hello There\n",
      "Hello There\n",
      "Hello There\n",
      "Hello There\n",
      "Hello There\n",
      "Hello There\n",
      "Hello There\n",
      "Hello There\n",
      "Hello There\n",
      "Hello There\n",
      "Hello There\n"
     ]
    }
   ],
   "source": [
    "for line in act.splitlines()[2:]:\n",
    "    match line: \n",
    "        case _ if \"BUY\" in line:\n",
    "            print(\"Hello There\")\n",
    "        case _ if \"DIV\" in line:\n",
    "            print(\"Hello There\")\n",
    "        case _ if \"CONT \" in line:\n",
    "            print(\"Hello There\")\n",
    "        case _ if \"SELL \" in line:\n",
    "            print(\"Hello There\")\n",
    "        case _ if \"NRT \" in line:\n",
    "            print(\"Hello There\")"
   ]
  },
  {
   "cell_type": "code",
   "execution_count": null,
   "id": "9d404874",
   "metadata": {},
   "outputs": [],
   "source": []
  }
 ],
 "metadata": {
  "kernelspec": {
   "display_name": ".wsvenv",
   "language": "python",
   "name": "python3"
  },
  "language_info": {
   "codemirror_mode": {
    "name": "ipython",
    "version": 3
   },
   "file_extension": ".py",
   "mimetype": "text/x-python",
   "name": "python",
   "nbconvert_exporter": "python",
   "pygments_lexer": "ipython3",
   "version": "3.12.8"
  }
 },
 "nbformat": 4,
 "nbformat_minor": 5
}
