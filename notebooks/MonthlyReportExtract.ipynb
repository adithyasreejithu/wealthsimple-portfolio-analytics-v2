{
 "cells": [
  {
   "cell_type": "code",
   "id": "initial_id",
   "metadata": {
    "collapsed": true,
    "ExecuteTime": {
     "end_time": "2025-10-18T16:06:08.128726Z",
     "start_time": "2025-10-18T16:05:55.420425Z"
    }
   },
   "source": [
    "import os, io, re\n",
    "from pathlib import Path\n",
    "\n",
    "import fitz\n",
    "import pytesseract\n",
    "from PIL import Image\n",
    "from dotenv import load_dotenv\n",
    "\n",
    "\n",
    "load_dotenv()\n",
    "\n",
    "\n",
    "ws = os.environ.get(\"DATA_FILES\")\n",
    "file = Path(ws)/\"March_2025.pdf\"\n",
    "doc = fitz.open(file)\n",
    "\n",
    "file_page_count = doc.page_count\n",
    "num = 0\n",
    "page_contents  = \" \"\n",
    "\n",
    "while num < file_page_count:\n",
    "    page = doc.load_page(num)\n",
    "    pix = page.get_pixmap(dpi=300)\n",
    "    img = Image.open(io.BytesIO(pix.tobytes(\"png\")))\n",
    "\n",
    "    text = pytesseract.image_to_string(img, config=\"--psm 6\")\n",
    "    page_contents += text\n",
    "    num += 1\n"
   ],
   "outputs": [],
   "execution_count": 1
  },
  {
   "metadata": {
    "ExecuteTime": {
     "end_time": "2025-10-18T16:39:02.310279Z",
     "start_time": "2025-10-18T16:39:02.299945Z"
    }
   },
   "cell_type": "code",
   "source": [
    "import os\n",
    "from pathlib import Path\n",
    "from dotenv import load_dotenv\n",
    "\n",
    "\n",
    "load_dotenv()\n",
    "DATA_FILES = os.getenv(\"DATA_FILES\")\n",
    "df_path = Path(DATA_FILES)\n",
    "read_df_path = df_path / \"Read_Files\"\n",
    "read_df_path.mkdir(parents=True, exist_ok=True)\n",
    "files = list(df_path.glob(\"*.pdf\"))"
   ],
   "id": "aa09c268b8cd21b1",
   "outputs": [],
   "execution_count": 14
  },
  {
   "metadata": {
    "ExecuteTime": {
     "end_time": "2025-10-18T16:39:03.451319Z",
     "start_time": "2025-10-18T16:39:03.445121Z"
    }
   },
   "cell_type": "code",
   "source": "print(files)",
   "id": "9132d59449c8eb50",
   "outputs": [
    {
     "name": "stdout",
     "output_type": "stream",
     "text": [
      "[WindowsPath('C:/Projects/Python/wealthsimple-portfolio-analytics-v2/Data_Files/April_2025.pdf'), WindowsPath('C:/Projects/Python/wealthsimple-portfolio-analytics-v2/Data_Files/January_2025.pdf'), WindowsPath('C:/Projects/Python/wealthsimple-portfolio-analytics-v2/Data_Files/March_2025.pdf')]\n"
     ]
    }
   ],
   "execution_count": 15
  }
 ],
 "metadata": {
  "kernelspec": {
   "display_name": "Python 3",
   "language": "python",
   "name": "python3"
  },
  "language_info": {
   "codemirror_mode": {
    "name": "ipython",
    "version": 2
   },
   "file_extension": ".py",
   "mimetype": "text/x-python",
   "name": "python",
   "nbconvert_exporter": "python",
   "pygments_lexer": "ipython2",
   "version": "2.7.6"
  }
 },
 "nbformat": 4,
 "nbformat_minor": 5
}
